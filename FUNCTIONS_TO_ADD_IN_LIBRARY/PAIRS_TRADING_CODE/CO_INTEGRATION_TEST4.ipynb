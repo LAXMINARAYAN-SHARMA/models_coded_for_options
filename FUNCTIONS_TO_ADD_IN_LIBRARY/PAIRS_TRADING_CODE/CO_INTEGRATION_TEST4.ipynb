{
  "nbformat": 4,
  "nbformat_minor": 0,
  "metadata": {
    "colab": {
      "provenance": []
    },
    "kernelspec": {
      "name": "python3",
      "display_name": "Python 3"
    },
    "language_info": {
      "name": "python"
    }
  },
  "cells": [
    {
      "cell_type": "code",
      "execution_count": 16,
      "metadata": {
        "colab": {
          "base_uri": "https://localhost:8080/"
        },
        "id": "EOl0dwlruEOP",
        "outputId": "82b89a1d-8f68-4805-a777-b63124261f8d"
      },
      "outputs": [
        {
          "output_type": "stream",
          "name": "stdout",
          "text": [
            "     Variable1 Variable2  Correlation\n",
            "18     COFORGE       HCL     0.971938\n",
            "75     INFOSYS      LTIM     0.969380\n",
            "45  PERSISTENT       HCL     0.968192\n",
            "58       TECHM   MPHASIS     0.967894\n",
            "39     MPHASIS      LTIM     0.967603\n",
            "9          TCS       HCL     0.967527\n",
            "57       TECHM      LTIM     0.967001\n",
            "73     INFOSYS       TCS     0.965752\n",
            "19     COFORGE       TCS     0.963982\n",
            "76     INFOSYS   MPHASIS     0.957615\n",
            "COFORGE\n"
          ]
        }
      ],
      "source": [
        "import numpy as np\n",
        "import pandas as pd\n",
        "import statsmodels.api as sm\n",
        "\n",
        "df_coforge=pd.read_csv('/content/COFORGE.NS.csv')\n",
        "df_hcl=pd.read_csv('/content/HCLTECH.NS.csv')\n",
        "df_tcs=pd.read_csv('/content/TCS.NS.csv')\n",
        "df_ltim=pd.read_csv('/content/LTIM.NS.csv')\n",
        "df_mphasis=pd.read_csv('/content/MPHASIS.NS.csv')\n",
        "df_persistent=pd.read_csv('/content/PERSISTENT.NS.csv')\n",
        "df_techm=pd.read_csv('/content/TECHM.NS.csv')\n",
        "df_wipro=pd.read_csv('/content/WIPRO.NS.csv')\n",
        "df_infy=pd.read_csv('/content/infosys.csv')\n",
        "\n",
        "\n",
        "\n",
        "df_concat=pd.concat([df_hcl['Adj Close'],df_tcs['Adj Close'],df_coforge['Adj Close'],df_ltim['Adj Close'],\n",
        "                     df_mphasis['Adj Close'],df_persistent['Adj Close'],df_techm['Adj Close'],df_wipro['Adj Close'],df_infy['Adj Close']],axis=1)\n",
        "df_concat.columns=['HCL','TCS','COFORGE','LTIM','MPHASIS','PERSISTENT','TECHM','WIPRO','INFOSYS']\n",
        "\n",
        "#calculate correlation matrix\n",
        "correl_matrix=df_concat.corr()\n",
        "\n",
        "\n",
        "# Extract the upper triangle of the correlation matrix\n",
        "upper_tri = correl_matrix.where(np.triu(np.ones(correl_matrix.shape), k=1).astype(bool))\n",
        "\n",
        "# Unstack the upper triangle matrix and reset the index to get a DataFrame of pairs\n",
        "pairs = upper_tri.unstack().reset_index()\n",
        "\n",
        "# Rename the columns for easier understanding\n",
        "pairs.columns = ['Variable1', 'Variable2', 'Correlation']\n",
        "\n",
        "# Sort the pairs by the correlation value in descending order and drop NaN values\n",
        "top_pairs = pairs.sort_values(by='Correlation', ascending=False).dropna()\n",
        "\n",
        "# Select the top 10 pairs\n",
        "top_10_pairs = top_pairs.head(10)\n",
        "\n",
        "print(top_10_pairs)\n",
        "\n"
      ]
    },
    {
      "cell_type": "code",
      "source": [
        "# Calculate the log prices\n",
        "df_concat_log = np.log(df_concat)\n",
        "print(df_concat.head())\n",
        "hedge_ratio_list=[]\n",
        "\n",
        "for i in range(len(top_10_pairs)):\n",
        "     log_prices_A = df_concat_log[top_10_pairs.iloc[i,0]]\n",
        "     log_prices_B = df_concat_log[top_10_pairs.iloc[i,1]]\n",
        "     # Add a constant term for the intercept\n",
        "     log_prices_B_with_const = sm.add_constant(log_prices_B)\n",
        "\n",
        "     #Perform OLS regression\n",
        "     model = sm.OLS(log_prices_A, log_prices_B_with_const)\n",
        "     results = model.fit()\n",
        "\n",
        "     # Extract the hedge ratio\n",
        "     hedge_ratio = results.params[1]\n",
        "\n",
        "     df_hedge_ratio=pd.DataFrame(columns=['stock_a','stock_b','HEDGE_RATIO'])\n",
        "     df_hedge_ratio.append([top_10_pairs.iloc[i,0],top_10_pairs.iloc[i,1],hedge_ratio])\n"
      ],
      "metadata": {
        "colab": {
          "base_uri": "https://localhost:8080/",
          "height": 523
        },
        "id": "tTizcq1_kxfC",
        "outputId": "c23bc369-5143-445c-e17c-d075a6957509"
      },
      "execution_count": 24,
      "outputs": [
        {
          "output_type": "stream",
          "name": "stdout",
          "text": [
            "          HCL          TCS     COFORGE         LTIM     MPHASIS  PERSISTENT  \\\n",
            "0  367.974823  1152.955688  602.737854  1043.743164  626.322266  328.376862   \n",
            "1  373.879425  1146.679932  592.366699  1047.023926  623.268127  327.154358   \n",
            "2  375.763916  1149.926636  595.501038  1024.971558  610.881592  321.087769   \n",
            "3  374.005219  1157.967407  602.138611  1030.211182  607.318420  326.854431   \n",
            "4  376.915588  1171.956665  617.211792  1010.118164  605.748901  331.975250   \n",
            "\n",
            "        TECHM       WIPRO     INFOSYS  \n",
            "0  414.378296  231.120148  441.161621  \n",
            "1  423.314972  232.689926  439.518219  \n",
            "2  427.845093  226.301331  435.932770  \n",
            "3  430.398315  227.542557  433.414429  \n",
            "4  432.786926  226.009308  431.963135  \n"
          ]
        },
        {
          "output_type": "error",
          "ename": "AttributeError",
          "evalue": "'DataFrame' object has no attribute 'append'",
          "traceback": [
            "\u001b[0;31m---------------------------------------------------------------------------\u001b[0m",
            "\u001b[0;31mAttributeError\u001b[0m                            Traceback (most recent call last)",
            "\u001b[0;32m<ipython-input-24-ed5feac1957d>\u001b[0m in \u001b[0;36m<cell line: 5>\u001b[0;34m()\u001b[0m\n\u001b[1;32m     17\u001b[0m \u001b[0;34m\u001b[0m\u001b[0m\n\u001b[1;32m     18\u001b[0m      \u001b[0mdf_hedge_ratio\u001b[0m\u001b[0;34m=\u001b[0m\u001b[0mpd\u001b[0m\u001b[0;34m.\u001b[0m\u001b[0mDataFrame\u001b[0m\u001b[0;34m(\u001b[0m\u001b[0mcolumns\u001b[0m\u001b[0;34m=\u001b[0m\u001b[0;34m[\u001b[0m\u001b[0;34m'stock_a'\u001b[0m\u001b[0;34m,\u001b[0m\u001b[0;34m'stock_b'\u001b[0m\u001b[0;34m,\u001b[0m\u001b[0;34m'HEDGE_RATIO'\u001b[0m\u001b[0;34m]\u001b[0m\u001b[0;34m)\u001b[0m\u001b[0;34m\u001b[0m\u001b[0;34m\u001b[0m\u001b[0m\n\u001b[0;32m---> 19\u001b[0;31m      \u001b[0mdf_hedge_ratio\u001b[0m\u001b[0;34m.\u001b[0m\u001b[0mappend\u001b[0m\u001b[0;34m(\u001b[0m\u001b[0;34m[\u001b[0m\u001b[0mtop_10_pairs\u001b[0m\u001b[0;34m.\u001b[0m\u001b[0miloc\u001b[0m\u001b[0;34m[\u001b[0m\u001b[0mi\u001b[0m\u001b[0;34m,\u001b[0m\u001b[0;36m0\u001b[0m\u001b[0;34m]\u001b[0m\u001b[0;34m,\u001b[0m\u001b[0mtop_10_pairs\u001b[0m\u001b[0;34m.\u001b[0m\u001b[0miloc\u001b[0m\u001b[0;34m[\u001b[0m\u001b[0mi\u001b[0m\u001b[0;34m,\u001b[0m\u001b[0;36m1\u001b[0m\u001b[0;34m]\u001b[0m\u001b[0;34m,\u001b[0m\u001b[0mhedge_ratio\u001b[0m\u001b[0;34m]\u001b[0m\u001b[0;34m)\u001b[0m\u001b[0;34m\u001b[0m\u001b[0;34m\u001b[0m\u001b[0m\n\u001b[0m",
            "\u001b[0;32m/usr/local/lib/python3.10/dist-packages/pandas/core/generic.py\u001b[0m in \u001b[0;36m__getattr__\u001b[0;34m(self, name)\u001b[0m\n\u001b[1;32m   6202\u001b[0m         ):\n\u001b[1;32m   6203\u001b[0m             \u001b[0;32mreturn\u001b[0m \u001b[0mself\u001b[0m\u001b[0;34m[\u001b[0m\u001b[0mname\u001b[0m\u001b[0;34m]\u001b[0m\u001b[0;34m\u001b[0m\u001b[0;34m\u001b[0m\u001b[0m\n\u001b[0;32m-> 6204\u001b[0;31m         \u001b[0;32mreturn\u001b[0m \u001b[0mobject\u001b[0m\u001b[0;34m.\u001b[0m\u001b[0m__getattribute__\u001b[0m\u001b[0;34m(\u001b[0m\u001b[0mself\u001b[0m\u001b[0;34m,\u001b[0m \u001b[0mname\u001b[0m\u001b[0;34m)\u001b[0m\u001b[0;34m\u001b[0m\u001b[0;34m\u001b[0m\u001b[0m\n\u001b[0m\u001b[1;32m   6205\u001b[0m \u001b[0;34m\u001b[0m\u001b[0m\n\u001b[1;32m   6206\u001b[0m     \u001b[0;34m@\u001b[0m\u001b[0mfinal\u001b[0m\u001b[0;34m\u001b[0m\u001b[0;34m\u001b[0m\u001b[0m\n",
            "\u001b[0;31mAttributeError\u001b[0m: 'DataFrame' object has no attribute 'append'"
          ]
        }
      ]
    },
    {
      "source": [
        "\n",
        "\n",
        "print(df_hedge_ratio)"
      ],
      "cell_type": "code",
      "execution_count": 22,
      "outputs": [
        {
          "output_type": "stream",
          "name": "stdout",
          "text": [
            "   stock_a  stock_b  HEDGE_RATIO\n",
            "9  INFOSYS  MPHASIS     0.825293\n"
          ]
        }
      ],
      "metadata": {
        "cellView": "form",
        "colab": {
          "base_uri": "https://localhost:8080/"
        },
        "collapsed": true,
        "id": "kQe9C2NTYdD_",
        "outputId": "c9b47299-3f88-4873-d7c9-fb340b60c553"
      }
    },
    {
      "cell_type": "code",
      "source": [
        "import numpy as np\n",
        "import pandas as pd\n",
        "from statsmodels.tsa.stattools import adfuller\n",
        "\n",
        "\n",
        "\n",
        "# Hedge ratio\n",
        "n = hedge_ratio\n",
        "\n",
        "# Calculate the spread\n",
        "spread = log_prices_A - n * log_prices_B\n",
        "\n",
        "# Perform ADF test on the spread\n",
        "adf_result = adfuller(spread,autolag='AIC')\n",
        "\n",
        "# Extract results\n",
        "adf_statistic = adf_result[0]\n",
        "p_value = adf_result[1]\n",
        "critical_values = adf_result[4]\n",
        "\n",
        "print(\"ADF Statistic:\", adf_statistic)\n",
        "print(\"p-value:\", p_value)\n",
        "print(\"Critical Values:\")\n",
        "for key, value in critical_values.items():\n",
        "    print(f\"   {key}: {value}\")\n",
        "\n",
        "# Interpret the result\n",
        "if p_value < 0.1:\n",
        "    print(\"The spread is stationary (reject the null hypothesis).\")\n",
        "else:\n",
        "    print(\"The spread is not stationary (fail to reject the null hypothesis).\")\n",
        "# as test static is more than<= critical values of 1%,5%,10%\n",
        "#it  mean that we can say spread is staionary with 1%,5%,10% significance levels"
      ],
      "metadata": {
        "colab": {
          "base_uri": "https://localhost:8080/"
        },
        "id": "5lwh4HkBwrmn",
        "outputId": "d63feead-0e6b-4793-f9de-cf955d2de2b4"
      },
      "execution_count": null,
      "outputs": [
        {
          "output_type": "stream",
          "name": "stdout",
          "text": [
            "ADF Statistic: -3.319655772826293\n",
            "p-value: 0.014022399550985219\n",
            "Critical Values:\n",
            "   1%: -3.434433413940919\n",
            "   5%: -2.863343588038396\n",
            "   10%: -2.5677301940441914\n",
            "The spread is stationary (reject the null hypothesis).\n"
          ]
        }
      ]
    },
    {
      "cell_type": "code",
      "source": [
        "mean=np.mean(spread)\n",
        "std_dev=np.std(spread)\n",
        "print(mean,std_dev)\n",
        "\n",
        "import matplotlib.pyplot as plt\n",
        "import seaborn as sns\n",
        "\n",
        "# Example data\n",
        "data = spread\n",
        "\n",
        "# Create a histogram and a density plot\n",
        "plt.figure(figsize=(10, 6))\n",
        "\n",
        "# Plot histogram\n",
        "sns.histplot(data, kde=True, color='blue', stat='density', linewidth=0)\n",
        "\n",
        "# Plot the mean and standard deviation\n",
        "plt.axvline(mean, color='red', linestyle='--', label=f'Mean: {mean:.2f}')\n",
        "plt.axvline(mean + std_dev, color='green', linestyle='--', label=f'Mean + 1 Std Dev')\n",
        "plt.axvline(mean - std_dev, color='green', linestyle='--', label=f'Mean - 1 Std Dev')\n",
        "\n",
        "plt.title('Data Distribution')\n",
        "plt.xlabel('Value')\n",
        "plt.ylabel('Density')\n",
        "plt.legend()\n",
        "\n",
        "plt.show()\n"
      ],
      "metadata": {
        "colab": {
          "base_uri": "https://localhost:8080/",
          "height": 545
        },
        "id": "m6XqyshY6fK9",
        "outputId": "52ef0fd9-e6cb-4161-aef0-b27b2b613fd8"
      },
      "execution_count": null,
      "outputs": [
        {
          "output_type": "stream",
          "name": "stdout",
          "text": [
            "3.14770521146279 0.0703791337283458\n"
          ]
        },
        {
          "output_type": "display_data",
          "data": {
            "text/plain": [
              "<Figure size 1000x600 with 1 Axes>"
            ],
            "image/png": "[encoded data removed]"
          },
          "metadata": {}
        }
      ]
    },
    {
      "cell_type": "code",
      "source": [
        "import math\n",
        "current_spread=math.log(4382)-hedge_ratio*math.log(1642)\n",
        "print(current_spread)\n",
        "\n",
        "z_score_of_current_spread=(current_spread-mean)/std_dev\n",
        "print(z_score_of_current_spread)"
      ],
      "metadata": {
        "colab": {
          "base_uri": "https://localhost:8080/"
        },
        "id": "1kSJL4aHGK1z",
        "outputId": "d720f25e-5039-4c48-a2f0-879648a49d70"
      },
      "execution_count": null,
      "outputs": [
        {
          "output_type": "stream",
          "name": "stdout",
          "text": [
            "3.138320486110951\n",
            "-0.1333452808337074\n"
          ]
        }
      ]
    }
  ]
}