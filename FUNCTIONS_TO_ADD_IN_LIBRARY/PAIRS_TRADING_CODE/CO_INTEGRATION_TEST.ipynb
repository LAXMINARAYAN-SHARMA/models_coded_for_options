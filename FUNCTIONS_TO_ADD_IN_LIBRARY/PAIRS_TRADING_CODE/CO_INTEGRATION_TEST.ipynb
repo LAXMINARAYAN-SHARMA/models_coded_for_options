{
  "nbformat": 4,
  "nbformat_minor": 0,
  "metadata": {
    "colab": {
      "provenance": []
    },
    "kernelspec": {
      "name": "python3",
      "display_name": "Python 3"
    },
    "language_info": {
      "name": "python"
    }
  },
  "cells": [
    {
      "cell_type": "code",
      "execution_count": 10,
      "metadata": {
        "colab": {
          "base_uri": "https://localhost:8080/"
        },
        "id": "EOl0dwlruEOP",
        "outputId": "37b499d8-512e-45ab-a773-0380bb485e10"
      },
      "outputs": [
        {
          "output_type": "stream",
          "name": "stdout",
          "text": [
            "         Date        Open        High         Low       Close   Adj Close  \\\n",
            "0  2018-01-01  444.500000  445.350006  437.975006  439.350006  367.974823   \n",
            "1  2018-01-02  438.450012  447.500000  438.424988  446.399994  373.879425   \n",
            "2  2018-01-03  446.500000  453.899994  446.500000  448.649994  375.763916   \n",
            "3  2018-01-04  448.000000  449.725006  441.524994  446.549988  374.005219   \n",
            "4  2018-01-05  444.125000  451.500000  441.149994  450.024994  376.915588   \n",
            "\n",
            "    Volume  log_price  \n",
            "0  1286288   6.085296  \n",
            "1  1906518   6.101215  \n",
            "2  2583906   6.106243  \n",
            "3  1193460   6.101551  \n",
            "4  1492292   6.109303  \n",
            "[7.18750602 7.1820481  7.18487548 ... 8.36782273 8.37158922 8.38659466]\n",
            "[6.08529638 6.1012154  6.10624306 ... 7.36751913 7.36997871 7.39961211]\n",
            "Hedge Ratio (OLS): 0.708694448633489\n"
          ]
        }
      ],
      "source": [
        "import numpy as np\n",
        "import pandas as pd\n",
        "import statsmodels.api as sm\n",
        "\n",
        "df_hcl=pd.read_csv('/content/HCLTECH.NS.csv')\n",
        "df_tcs=pd.read_csv('/content/TCS.NS.csv')\n",
        "# df=pd.concat([df_tcs,df_hcl])\n",
        "\n",
        "df_tcs['log_price']=np.log(df_tcs['Close'])\n",
        "df_hcl['log_price']=np.log(df_hcl['Close'])\n",
        "\n",
        "# Hypothetical log prices\n",
        "log_prices_A = np.array(df_tcs['log_price'])\n",
        "log_prices_B = np.array(df_hcl['log_price'])\n",
        "print(df_hcl.head())\n",
        "print(log_prices_A)\n",
        "print(log_prices_B)\n",
        "# Add a constant term for the intercept\n",
        "log_prices_B_with_const = sm.add_constant(log_prices_B)\n",
        "\n",
        "# Perform OLS regression\n",
        "model = sm.OLS(log_prices_A, log_prices_B_with_const)\n",
        "results = model.fit()\n",
        "\n",
        "# Extract the hedge ratio\n",
        "hedge_ratio = results.params[1]\n",
        "\n",
        "print(\"Hedge Ratio (OLS):\", hedge_ratio)\n"
      ]
    },
    {
      "cell_type": "code",
      "source": [
        "import numpy as np\n",
        "import pandas as pd\n",
        "from statsmodels.tsa.stattools import adfuller\n",
        "\n",
        "\n",
        "\n",
        "# Hedge ratio\n",
        "n = hedge_ratio\n",
        "\n",
        "# Calculate the spread\n",
        "spread = log_prices_A - n * log_prices_B\n",
        "\n",
        "# Perform ADF test on the spread\n",
        "adf_result = adfuller(spread)\n",
        "\n",
        "# Extract results\n",
        "adf_statistic = adf_result[0]\n",
        "p_value = adf_result[1]\n",
        "critical_values = adf_result[4]\n",
        "\n",
        "print(\"ADF Statistic:\", adf_statistic)\n",
        "print(\"p-value:\", p_value)\n",
        "print(\"Critical Values:\")\n",
        "for key, value in critical_values.items():\n",
        "    print(f\"   {key}: {value}\")\n",
        "\n",
        "# Interpret the result\n",
        "if p_value < 0.8:\n",
        "    print(\"The spread is stationary (reject the null hypothesis).\")\n",
        "else:\n",
        "    print(\"The spread is not stationary (fail to reject the null hypothesis).\")\n",
        "# as test static is more than<= critical values of 1%,5%,10%\n",
        "#it  mean that we can say spread is staionary with 1%,5%,10% significance levels"
      ],
      "metadata": {
        "colab": {
          "base_uri": "https://localhost:8080/"
        },
        "id": "5lwh4HkBwrmn",
        "outputId": "0588adae-c118-4e1a-8368-ab8f77c93c2f"
      },
      "execution_count": 7,
      "outputs": [
        {
          "output_type": "stream",
          "name": "stdout",
          "text": [
            "ADF Statistic: -4.610466679201234\n",
            "p-value: 0.00012355178196644874\n",
            "Critical Values:\n",
            "   1%: -3.4344005326727904\n",
            "   5%: -2.8633290746707947\n",
            "   10%: -2.5677224657808253\n",
            "The spread is stationary (reject the null hypothesis).\n"
          ]
        }
      ]
    }
  ]
}