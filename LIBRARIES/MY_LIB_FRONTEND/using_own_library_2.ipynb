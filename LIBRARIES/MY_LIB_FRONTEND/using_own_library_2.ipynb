{
  "nbformat": 4,
  "nbformat_minor": 0,
  "metadata": {
    "colab": {
      "provenance": [],
      "collapsed_sections": [
        "aajBZTbO09zQ",
        "tpBwEDM71UjV",
        "6L9T66g68n-r"
      ]
    },
    "kernelspec": {
      "name": "python3",
      "display_name": "Python 3"
    },
    "language_info": {
      "name": "python"
    }
  },
  "cells": [
    {
      "cell_type": "markdown",
      "source": [
        "## IMPORT OF MY OWN LIBRAY"
      ],
      "metadata": {
        "id": "aajBZTbO09zQ"
      }
    },
    {
      "cell_type": "code",
      "execution_count": 52,
      "metadata": {
        "id": "TR-yvdINAfuB",
        "colab": {
          "base_uri": "https://localhost:8080/"
        },
        "outputId": "ba29bcff-8bd3-4222-9367-8f775151393e"
      },
      "outputs": [
        {
          "output_type": "stream",
          "name": "stdout",
          "text": [
            "Drive already mounted at /content/drive; to attempt to forcibly remount, call drive.mount(\"/content/drive\", force_remount=True).\n"
          ]
        }
      ],
      "source": [
        "from google.colab import drive\n",
        "drive.mount('/content/drive')\n",
        "import sys\n",
        "\n",
        "sys.path.append('/content/drive/MyDrive/MY_ONLINE_DATA_NEEDED_FILES/MY_LIBRARY_FOR_OPTIONS_TRADING/')\n",
        "import my_library_14 as my_lib"
      ]
    },
    {
      "cell_type": "markdown",
      "source": [
        "## SET BASIC AND COMMON PARAMETERS OF ALL FUNCTIONS"
      ],
      "metadata": {
        "id": "tpBwEDM71UjV"
      }
    },
    {
      "cell_type": "code",
      "source": [
        "import urllib.parse\n",
        "import pandas as pd\n",
        "import requests\n",
        "from IPython.display import display, HTML\n",
        "\n",
        "apikey='7112261b-c8d0-4e6b-b9cc-7fd1e5c56752'\n",
        "secretkey='xoxzuh2k62'\n",
        "rurl=urllib.parse.quote('https://127.0.0.1:5000/',safe=\"\")\n",
        "\n",
        "uri=f'https://api.upstox.com/v2/login/authorization/dialog?response_type=code&client_id=7112261b-c8d0-4e6b-b9cc-7fd1e5c56752&redirect_uri=https://127.0.0.1:5000/&state=RnJpIERlYyAxNiAyMDIyIDE1OjU4OjUxIEdNVCswNTMwIChJbmRpYSBTdGFuZGFyZCBUaW1lKQ%3D%3D'\n",
        "uri\n",
        "display(HTML(f'<a href=\"{uri}\" target=\"_blank\">Click here to open the URL</a>'))"
      ],
      "metadata": {
        "colab": {
          "base_uri": "https://localhost:8080/",
          "height": 34
        },
        "id": "y5e5uHDEJGHm",
        "outputId": "4a860938-25c6-4027-db3f-f938d1deb97e"
      },
      "execution_count": 37,
      "outputs": [
        {
          "output_type": "display_data",
          "data": {
            "text/plain": [
              "<IPython.core.display.HTML object>"
            ],
            "text/html": [
              "<a href=\"https://api.upstox.com/v2/login/authorization/dialog?response_type=code&client_id=7112261b-c8d0-4e6b-b9cc-7fd1e5c56752&redirect_uri=https://127.0.0.1:5000/&state=RnJpIERlYyAxNiAyMDIyIDE1OjU4OjUxIEdNVCswNTMwIChJbmRpYSBTdGFuZGFyZCBUaW1lKQ%3D%3D\" target=\"_blank\">Click here to open the URL</a>"
            ]
          },
          "metadata": {}
        }
      ]
    },
    {
      "cell_type": "code",
      "source": [
        "code='zJSqPQ'"
      ],
      "metadata": {
        "id": "SGRQY6b5KYOX"
      },
      "execution_count": 38,
      "outputs": []
    },
    {
      "cell_type": "code",
      "source": [
        "access_token_value=my_lib.get_access_token(code,apikey,secretkey)\n"
      ],
      "metadata": {
        "id": "xQx787iU0usI",
        "colab": {
          "base_uri": "https://localhost:8080/"
        },
        "outputId": "186ea51d-c374-4984-d9ea-c25708994f07"
      },
      "execution_count": 39,
      "outputs": [
        {
          "output_type": "stream",
          "name": "stdout",
          "text": [
            "               Key                                              Value\n",
            "0            email                             iit2022231@iiita.ac.in\n",
            "1        exchanges                     [NSE, BSE, CDS, NFO, BFO, BCD]\n",
            "2         products                                    [OCO, D, CO, I]\n",
            "3           broker                                             UPSTOX\n",
            "4          user_id                                             58AUGK\n",
            "5        user_name                               LAXMI NARAYAN SHARMA\n",
            "6      order_types                          [MARKET, LIMIT, SL, SL-M]\n",
            "7        user_type                                         individual\n",
            "8              poa                                              False\n",
            "9        is_active                                               True\n",
            "10    access_token  eyJ0eXAiOiJKV1QiLCJrZXlfaWQiOiJza192MS4wIiwiYW...\n",
            "11  extended_token                                               None\n"
          ]
        }
      ]
    },
    {
      "cell_type": "code",
      "source": [
        "import yfinance as yf\n",
        "\n",
        "import datetime as dt\n",
        "df_only_options_stock=pd.read_excel(\"https://drive.google.com/uc?export=download&id=1-_aBkcgF1W9LNUJbpE4rUGlMst4iiaWo\")\n",
        "df=pd.read_csv(\"https://drive.google.com/uc?export=download&id=1Dyt6laIWQNO4p6FHyw335QG8rKLyeXP1\")\n",
        "\n",
        "\n",
        "# symbol='HAL'\n",
        "# data=yf.download(tickers='HAL.NS',period='max',interval='1d')\n",
        "# historical_stock_data=data['Adj Close']\n",
        "# instrument_key=df[df['Symbol']==symbol]['instrument_key'].values[0]"
      ],
      "metadata": {
        "id": "nuyVd36XKrA1"
      },
      "execution_count": 40,
      "outputs": []
    },
    {
      "cell_type": "markdown",
      "source": [
        "##  SELECTING STOCKS HAVING UNEXPECTED ATM IV WRT TO ITS PAST HISTORY"
      ],
      "metadata": {
        "id": "6L9T66g68n-r"
      }
    },
    {
      "cell_type": "code",
      "source": [
        "df_only_options_stock=df_only_options_stock[:5]\n",
        "df_result=my_lib.comparing_atm_iv_with_past_volatility_range(df_only_options_stock,access_token_value)\n",
        "df_result\n"
      ],
      "metadata": {
        "colab": {
          "base_uri": "https://localhost:8080/",
          "height": 293
        },
        "id": "c9-QZ6D5E9O7",
        "outputId": "d53c3486-027c-45ad-9194-6697a8111185"
      },
      "execution_count": 53,
      "outputs": [
        {
          "output_type": "stream",
          "name": "stderr",
          "text": [
            "[*********************100%%**********************]  1 of 1 completed\n",
            "[*********************100%%**********************]  1 of 1 completed\n",
            "[*********************100%%**********************]  1 of 1 completed\n",
            "[*********************100%%**********************]  1 of 1 completed\n",
            "[*********************100%%**********************]  1 of 1 completed\n"
          ]
        },
        {
          "output_type": "execute_result",
          "data": {
            "text/plain": [
              "       SYMBOL        MIN       -2STD      -1STD       MEAN       +1STD  \\\n",
              "0    AARTIIND   5.466105  -11.730334  12.394314  36.518961   60.643609   \n",
              "1         ABB   7.729957 -196.716383 -79.910095  36.896192  153.702479   \n",
              "2  ABBOTINDIA   0.000000  -13.622090   0.852246  15.326582   29.800917   \n",
              "3   ABCAPITAL  12.551156    5.195299  19.527988  33.860677   48.193366   \n",
              "4       ABFRL  16.551393    7.248824  21.510404  35.771984   50.033565   \n",
              "\n",
              "        +2STD          MAX  STRIKE_PRICE  ATM_IV  \n",
              "0   84.768257   294.568388         750.0   35.40  \n",
              "1  270.508766  1873.775845        8000.0   33.10  \n",
              "2   44.275253    94.012873       27250.0   25.27  \n",
              "3   62.526055    92.983603         212.5   26.86  \n",
              "4   64.295145    91.188353         325.0   33.94  "
            ],
            "text/html": [
              "\n",
              "  <div id=\"df-6007f31c-a5cf-472a-85de-006879fed9da\" class=\"colab-df-container\">\n",
              "    <div>\n",
              "<style scoped>\n",
              "    .dataframe tbody tr th:only-of-type {\n",
              "        vertical-align: middle;\n",
              "    }\n",
              "\n",
              "    .dataframe tbody tr th {\n",
              "        vertical-align: top;\n",
              "    }\n",
              "\n",
              "    .dataframe thead th {\n",
              "        text-align: right;\n",
              "    }\n",
              "</style>\n",
              "<table border=\"1\" class=\"dataframe\">\n",
              "  <thead>\n",
              "    <tr style=\"text-align: right;\">\n",
              "      <th></th>\n",
              "      <th>SYMBOL</th>\n",
              "      <th>MIN</th>\n",
              "      <th>-2STD</th>\n",
              "      <th>-1STD</th>\n",
              "      <th>MEAN</th>\n",
              "      <th>+1STD</th>\n",
              "      <th>+2STD</th>\n",
              "      <th>MAX</th>\n",
              "      <th>STRIKE_PRICE</th>\n",
              "      <th>ATM_IV</th>\n",
              "    </tr>\n",
              "  </thead>\n",
              "  <tbody>\n",
              "    <tr>\n",
              "      <th>0</th>\n",
              "      <td>AARTIIND</td>\n",
              "      <td>5.466105</td>\n",
              "      <td>-11.730334</td>\n",
              "      <td>12.394314</td>\n",
              "      <td>36.518961</td>\n",
              "      <td>60.643609</td>\n",
              "      <td>84.768257</td>\n",
              "      <td>294.568388</td>\n",
              "      <td>750.0</td>\n",
              "      <td>35.40</td>\n",
              "    </tr>\n",
              "    <tr>\n",
              "      <th>1</th>\n",
              "      <td>ABB</td>\n",
              "      <td>7.729957</td>\n",
              "      <td>-196.716383</td>\n",
              "      <td>-79.910095</td>\n",
              "      <td>36.896192</td>\n",
              "      <td>153.702479</td>\n",
              "      <td>270.508766</td>\n",
              "      <td>1873.775845</td>\n",
              "      <td>8000.0</td>\n",
              "      <td>33.10</td>\n",
              "    </tr>\n",
              "    <tr>\n",
              "      <th>2</th>\n",
              "      <td>ABBOTINDIA</td>\n",
              "      <td>0.000000</td>\n",
              "      <td>-13.622090</td>\n",
              "      <td>0.852246</td>\n",
              "      <td>15.326582</td>\n",
              "      <td>29.800917</td>\n",
              "      <td>44.275253</td>\n",
              "      <td>94.012873</td>\n",
              "      <td>27250.0</td>\n",
              "      <td>25.27</td>\n",
              "    </tr>\n",
              "    <tr>\n",
              "      <th>3</th>\n",
              "      <td>ABCAPITAL</td>\n",
              "      <td>12.551156</td>\n",
              "      <td>5.195299</td>\n",
              "      <td>19.527988</td>\n",
              "      <td>33.860677</td>\n",
              "      <td>48.193366</td>\n",
              "      <td>62.526055</td>\n",
              "      <td>92.983603</td>\n",
              "      <td>212.5</td>\n",
              "      <td>26.86</td>\n",
              "    </tr>\n",
              "    <tr>\n",
              "      <th>4</th>\n",
              "      <td>ABFRL</td>\n",
              "      <td>16.551393</td>\n",
              "      <td>7.248824</td>\n",
              "      <td>21.510404</td>\n",
              "      <td>35.771984</td>\n",
              "      <td>50.033565</td>\n",
              "      <td>64.295145</td>\n",
              "      <td>91.188353</td>\n",
              "      <td>325.0</td>\n",
              "      <td>33.94</td>\n",
              "    </tr>\n",
              "  </tbody>\n",
              "</table>\n",
              "</div>\n",
              "    <div class=\"colab-df-buttons\">\n",
              "\n",
              "  <div class=\"colab-df-container\">\n",
              "    <button class=\"colab-df-convert\" onclick=\"convertToInteractive('df-6007f31c-a5cf-472a-85de-006879fed9da')\"\n",
              "            title=\"Convert this dataframe to an interactive table.\"\n",
              "            style=\"display:none;\">\n",
              "\n",
              "  <svg xmlns=\"http://www.w3.org/2000/svg\" height=\"24px\" viewBox=\"0 -960 960 960\">\n",
              "    <path d=\"M120-120v-720h720v720H120Zm60-500h600v-160H180v160Zm220 220h160v-160H400v160Zm0 220h160v-160H400v160ZM180-400h160v-160H180v160Zm440 0h160v-160H620v160ZM180-180h160v-160H180v160Zm440 0h160v-160H620v160Z\"/>\n",
              "  </svg>\n",
              "    </button>\n",
              "\n",
              "  <style>\n",
              "    .colab-df-container {\n",
              "      display:flex;\n",
              "      gap: 12px;\n",
              "    }\n",
              "\n",
              "    .colab-df-convert {\n",
              "      background-color: #E8F0FE;\n",
              "      border: none;\n",
              "      border-radius: 50%;\n",
              "      cursor: pointer;\n",
              "      display: none;\n",
              "      fill: #1967D2;\n",
              "      height: 32px;\n",
              "      padding: 0 0 0 0;\n",
              "      width: 32px;\n",
              "    }\n",
              "\n",
              "    .colab-df-convert:hover {\n",
              "      background-color: #E2EBFA;\n",
              "      box-shadow: 0px 1px 2px rgba(60, 64, 67, 0.3), 0px 1px 3px 1px rgba(60, 64, 67, 0.15);\n",
              "      fill: #174EA6;\n",
              "    }\n",
              "\n",
              "    .colab-df-buttons div {\n",
              "      margin-bottom: 4px;\n",
              "    }\n",
              "\n",
              "    [theme=dark] .colab-df-convert {\n",
              "      background-color: #3B4455;\n",
              "      fill: #D2E3FC;\n",
              "    }\n",
              "\n",
              "    [theme=dark] .colab-df-convert:hover {\n",
              "      background-color: #434B5C;\n",
              "      box-shadow: 0px 1px 3px 1px rgba(0, 0, 0, 0.15);\n",
              "      filter: drop-shadow(0px 1px 2px rgba(0, 0, 0, 0.3));\n",
              "      fill: #FFFFFF;\n",
              "    }\n",
              "  </style>\n",
              "\n",
              "    <script>\n",
              "      const buttonEl =\n",
              "        document.querySelector('#df-6007f31c-a5cf-472a-85de-006879fed9da button.colab-df-convert');\n",
              "      buttonEl.style.display =\n",
              "        google.colab.kernel.accessAllowed ? 'block' : 'none';\n",
              "\n",
              "      async function convertToInteractive(key) {\n",
              "        const element = document.querySelector('#df-6007f31c-a5cf-472a-85de-006879fed9da');\n",
              "        const dataTable =\n",
              "          await google.colab.kernel.invokeFunction('convertToInteractive',\n",
              "                                                    [key], {});\n",
              "        if (!dataTable) return;\n",
              "\n",
              "        const docLinkHtml = 'Like what you see? Visit the ' +\n",
              "          '<a target=\"_blank\" href=https://colab.research.google.com/notebooks/data_table.ipynb>data table notebook</a>'\n",
              "          + ' to learn more about interactive tables.';\n",
              "        element.innerHTML = '';\n",
              "        dataTable['output_type'] = 'display_data';\n",
              "        await google.colab.output.renderOutput(dataTable, element);\n",
              "        const docLink = document.createElement('div');\n",
              "        docLink.innerHTML = docLinkHtml;\n",
              "        element.appendChild(docLink);\n",
              "      }\n",
              "    </script>\n",
              "  </div>\n",
              "\n",
              "\n",
              "<div id=\"df-00538e64-49f6-496e-8619-dc82ad5e45ad\">\n",
              "  <button class=\"colab-df-quickchart\" onclick=\"quickchart('df-00538e64-49f6-496e-8619-dc82ad5e45ad')\"\n",
              "            title=\"Suggest charts\"\n",
              "            style=\"display:none;\">\n",
              "\n",
              "<svg xmlns=\"http://www.w3.org/2000/svg\" height=\"24px\"viewBox=\"0 0 24 24\"\n",
              "     width=\"24px\">\n",
              "    <g>\n",
              "        <path d=\"M19 3H5c-1.1 0-2 .9-2 2v14c0 1.1.9 2 2 2h14c1.1 0 2-.9 2-2V5c0-1.1-.9-2-2-2zM9 17H7v-7h2v7zm4 0h-2V7h2v10zm4 0h-2v-4h2v4z\"/>\n",
              "    </g>\n",
              "</svg>\n",
              "  </button>\n",
              "\n",
              "<style>\n",
              "  .colab-df-quickchart {\n",
              "      --bg-color: #E8F0FE;\n",
              "      --fill-color: #1967D2;\n",
              "      --hover-bg-color: #E2EBFA;\n",
              "      --hover-fill-color: #174EA6;\n",
              "      --disabled-fill-color: #AAA;\n",
              "      --disabled-bg-color: #DDD;\n",
              "  }\n",
              "\n",
              "  [theme=dark] .colab-df-quickchart {\n",
              "      --bg-color: #3B4455;\n",
              "      --fill-color: #D2E3FC;\n",
              "      --hover-bg-color: #434B5C;\n",
              "      --hover-fill-color: #FFFFFF;\n",
              "      --disabled-bg-color: #3B4455;\n",
              "      --disabled-fill-color: #666;\n",
              "  }\n",
              "\n",
              "  .colab-df-quickchart {\n",
              "    background-color: var(--bg-color);\n",
              "    border: none;\n",
              "    border-radius: 50%;\n",
              "    cursor: pointer;\n",
              "    display: none;\n",
              "    fill: var(--fill-color);\n",
              "    height: 32px;\n",
              "    padding: 0;\n",
              "    width: 32px;\n",
              "  }\n",
              "\n",
              "  .colab-df-quickchart:hover {\n",
              "    background-color: var(--hover-bg-color);\n",
              "    box-shadow: 0 1px 2px rgba(60, 64, 67, 0.3), 0 1px 3px 1px rgba(60, 64, 67, 0.15);\n",
              "    fill: var(--button-hover-fill-color);\n",
              "  }\n",
              "\n",
              "  .colab-df-quickchart-complete:disabled,\n",
              "  .colab-df-quickchart-complete:disabled:hover {\n",
              "    background-color: var(--disabled-bg-color);\n",
              "    fill: var(--disabled-fill-color);\n",
              "    box-shadow: none;\n",
              "  }\n",
              "\n",
              "  .colab-df-spinner {\n",
              "    border: 2px solid var(--fill-color);\n",
              "    border-color: transparent;\n",
              "    border-bottom-color: var(--fill-color);\n",
              "    animation:\n",
              "      spin 1s steps(1) infinite;\n",
              "  }\n",
              "\n",
              "  @keyframes spin {\n",
              "    0% {\n",
              "      border-color: transparent;\n",
              "      border-bottom-color: var(--fill-color);\n",
              "      border-left-color: var(--fill-color);\n",
              "    }\n",
              "    20% {\n",
              "      border-color: transparent;\n",
              "      border-left-color: var(--fill-color);\n",
              "      border-top-color: var(--fill-color);\n",
              "    }\n",
              "    30% {\n",
              "      border-color: transparent;\n",
              "      border-left-color: var(--fill-color);\n",
              "      border-top-color: var(--fill-color);\n",
              "      border-right-color: var(--fill-color);\n",
              "    }\n",
              "    40% {\n",
              "      border-color: transparent;\n",
              "      border-right-color: var(--fill-color);\n",
              "      border-top-color: var(--fill-color);\n",
              "    }\n",
              "    60% {\n",
              "      border-color: transparent;\n",
              "      border-right-color: var(--fill-color);\n",
              "    }\n",
              "    80% {\n",
              "      border-color: transparent;\n",
              "      border-right-color: var(--fill-color);\n",
              "      border-bottom-color: var(--fill-color);\n",
              "    }\n",
              "    90% {\n",
              "      border-color: transparent;\n",
              "      border-bottom-color: var(--fill-color);\n",
              "    }\n",
              "  }\n",
              "</style>\n",
              "\n",
              "  <script>\n",
              "    async function quickchart(key) {\n",
              "      const quickchartButtonEl =\n",
              "        document.querySelector('#' + key + ' button');\n",
              "      quickchartButtonEl.disabled = true;  // To prevent multiple clicks.\n",
              "      quickchartButtonEl.classList.add('colab-df-spinner');\n",
              "      try {\n",
              "        const charts = await google.colab.kernel.invokeFunction(\n",
              "            'suggestCharts', [key], {});\n",
              "      } catch (error) {\n",
              "        console.error('Error during call to suggestCharts:', error);\n",
              "      }\n",
              "      quickchartButtonEl.classList.remove('colab-df-spinner');\n",
              "      quickchartButtonEl.classList.add('colab-df-quickchart-complete');\n",
              "    }\n",
              "    (() => {\n",
              "      let quickchartButtonEl =\n",
              "        document.querySelector('#df-00538e64-49f6-496e-8619-dc82ad5e45ad button');\n",
              "      quickchartButtonEl.style.display =\n",
              "        google.colab.kernel.accessAllowed ? 'block' : 'none';\n",
              "    })();\n",
              "  </script>\n",
              "</div>\n",
              "\n",
              "  <div id=\"id_d7920b0c-2902-43c3-880b-bc04a5b9c099\">\n",
              "    <style>\n",
              "      .colab-df-generate {\n",
              "        background-color: #E8F0FE;\n",
              "        border: none;\n",
              "        border-radius: 50%;\n",
              "        cursor: pointer;\n",
              "        display: none;\n",
              "        fill: #1967D2;\n",
              "        height: 32px;\n",
              "        padding: 0 0 0 0;\n",
              "        width: 32px;\n",
              "      }\n",
              "\n",
              "      .colab-df-generate:hover {\n",
              "        background-color: #E2EBFA;\n",
              "        box-shadow: 0px 1px 2px rgba(60, 64, 67, 0.3), 0px 1px 3px 1px rgba(60, 64, 67, 0.15);\n",
              "        fill: #174EA6;\n",
              "      }\n",
              "\n",
              "      [theme=dark] .colab-df-generate {\n",
              "        background-color: #3B4455;\n",
              "        fill: #D2E3FC;\n",
              "      }\n",
              "\n",
              "      [theme=dark] .colab-df-generate:hover {\n",
              "        background-color: #434B5C;\n",
              "        box-shadow: 0px 1px 3px 1px rgba(0, 0, 0, 0.15);\n",
              "        filter: drop-shadow(0px 1px 2px rgba(0, 0, 0, 0.3));\n",
              "        fill: #FFFFFF;\n",
              "      }\n",
              "    </style>\n",
              "    <button class=\"colab-df-generate\" onclick=\"generateWithVariable('df_result')\"\n",
              "            title=\"Generate code using this dataframe.\"\n",
              "            style=\"display:none;\">\n",
              "\n",
              "  <svg xmlns=\"http://www.w3.org/2000/svg\" height=\"24px\"viewBox=\"0 0 24 24\"\n",
              "       width=\"24px\">\n",
              "    <path d=\"M7,19H8.4L18.45,9,17,7.55,7,17.6ZM5,21V16.75L18.45,3.32a2,2,0,0,1,2.83,0l1.4,1.43a1.91,1.91,0,0,1,.58,1.4,1.91,1.91,0,0,1-.58,1.4L9.25,21ZM18.45,9,17,7.55Zm-12,3A5.31,5.31,0,0,0,4.9,8.1,5.31,5.31,0,0,0,1,6.5,5.31,5.31,0,0,0,4.9,4.9,5.31,5.31,0,0,0,6.5,1,5.31,5.31,0,0,0,8.1,4.9,5.31,5.31,0,0,0,12,6.5,5.46,5.46,0,0,0,6.5,12Z\"/>\n",
              "  </svg>\n",
              "    </button>\n",
              "    <script>\n",
              "      (() => {\n",
              "      const buttonEl =\n",
              "        document.querySelector('#id_d7920b0c-2902-43c3-880b-bc04a5b9c099 button.colab-df-generate');\n",
              "      buttonEl.style.display =\n",
              "        google.colab.kernel.accessAllowed ? 'block' : 'none';\n",
              "\n",
              "      buttonEl.onclick = () => {\n",
              "        google.colab.notebook.generateWithVariable('df_result');\n",
              "      }\n",
              "      })();\n",
              "    </script>\n",
              "  </div>\n",
              "\n",
              "    </div>\n",
              "  </div>\n"
            ],
            "application/vnd.google.colaboratory.intrinsic+json": {
              "type": "dataframe",
              "variable_name": "df_result",
              "summary": "{\n  \"name\": \"df_result\",\n  \"rows\": 5,\n  \"fields\": [\n    {\n      \"column\": \"SYMBOL\",\n      \"properties\": {\n        \"dtype\": \"string\",\n        \"num_unique_values\": 5,\n        \"samples\": [\n          \"ABB\",\n          \"ABFRL\",\n          \"ABBOTINDIA\"\n        ],\n        \"semantic_type\": \"\",\n        \"description\": \"\"\n      }\n    },\n    {\n      \"column\": \"MIN\",\n      \"properties\": {\n        \"dtype\": \"number\",\n        \"std\": 6.388978111315973,\n        \"min\": 0.0,\n        \"max\": 16.551392592252483,\n        \"num_unique_values\": 5,\n        \"samples\": [\n          7.729956975801012,\n          16.551392592252483,\n          0.0\n        ],\n        \"semantic_type\": \"\",\n        \"description\": \"\"\n      }\n    },\n    {\n      \"column\": \"-2STD\",\n      \"properties\": {\n        \"dtype\": \"number\",\n        \"std\": 87.05103703055316,\n        \"min\": -196.7163826806378,\n        \"max\": 7.248823672742663,\n        \"num_unique_values\": 5,\n        \"samples\": [\n          -196.7163826806378,\n          7.248823672742663,\n          -13.622089979348099\n        ],\n        \"semantic_type\": \"\",\n        \"description\": \"\"\n      }\n    },\n    {\n      \"column\": \"-1STD\",\n      \"properties\": {\n        \"dtype\": \"number\",\n        \"std\": 42.58133061019037,\n        \"min\": -79.91009544855302,\n        \"max\": 21.510404073114657,\n        \"num_unique_values\": 5,\n        \"samples\": [\n          -79.91009544855302,\n          21.510404073114657,\n          0.8522457689679506\n        ],\n        \"semantic_type\": \"\",\n        \"description\": \"\"\n      }\n    },\n    {\n      \"column\": \"MEAN\",\n      \"properties\": {\n        \"dtype\": \"number\",\n        \"std\": 9.213550548630392,\n        \"min\": 15.326581517284,\n        \"max\": 36.89619178353177,\n        \"num_unique_values\": 5,\n        \"samples\": [\n          36.89619178353177,\n          35.771984473486654,\n          15.326581517284\n        ],\n        \"semantic_type\": \"\",\n        \"description\": \"\"\n      }\n    },\n    {\n      \"column\": \"+1STD\",\n      \"properties\": {\n        \"dtype\": \"number\",\n        \"std\": 48.91873301331747,\n        \"min\": 29.80091726560005,\n        \"max\": 153.70247901561655,\n        \"num_unique_values\": 5,\n        \"samples\": [\n          153.70247901561655,\n          50.03356487385865,\n          29.80091726560005\n        ],\n        \"semantic_type\": \"\",\n        \"description\": \"\"\n      }\n    },\n    {\n      \"column\": \"+2STD\",\n      \"properties\": {\n        \"dtype\": \"number\",\n        \"std\": 93.475282798623,\n        \"min\": 44.2752530139161,\n        \"max\": 270.5087662477013,\n        \"num_unique_values\": 5,\n        \"samples\": [\n          270.5087662477013,\n          64.29514527423065,\n          44.2752530139161\n        ],\n        \"semantic_type\": \"\",\n        \"description\": \"\"\n      }\n    },\n    {\n      \"column\": \"MAX\",\n      \"properties\": {\n        \"dtype\": \"number\",\n        \"std\": 778.862190723506,\n        \"min\": 91.18835321635477,\n        \"max\": 1873.7758448487934,\n        \"num_unique_values\": 5,\n        \"samples\": [\n          1873.7758448487934,\n          91.18835321635477,\n          94.01287286140415\n        ],\n        \"semantic_type\": \"\",\n        \"description\": \"\"\n      }\n    },\n    {\n      \"column\": \"STRIKE_PRICE\",\n      \"properties\": {\n        \"dtype\": \"number\",\n        \"std\": 11621.940457600012,\n        \"min\": 212.5,\n        \"max\": 27250.0,\n        \"num_unique_values\": 5,\n        \"samples\": [\n          8000.0,\n          325.0,\n          27250.0\n        ],\n        \"semantic_type\": \"\",\n        \"description\": \"\"\n      }\n    },\n    {\n      \"column\": \"ATM_IV\",\n      \"properties\": {\n        \"dtype\": \"number\",\n        \"std\": 4.537320795359306,\n        \"min\": 25.27,\n        \"max\": 35.4,\n        \"num_unique_values\": 5,\n        \"samples\": [\n          33.1,\n          33.94,\n          25.27\n        ],\n        \"semantic_type\": \"\",\n        \"description\": \"\"\n      }\n    }\n  ]\n}"
            }
          },
          "metadata": {},
          "execution_count": 53
        }
      ]
    },
    {
      "cell_type": "markdown",
      "source": [
        "## INDIVISUAL ANALYSIS ON STOCKS"
      ],
      "metadata": {
        "id": "aHGAPb-R1lhE"
      }
    },
    {
      "cell_type": "code",
      "source": [
        "symbol='HAL'\n",
        "data=yf.download(tickers='HAL.NS',period='max',interval='1d')\n",
        "historical_stock_data=data['Adj Close']\n",
        "instrument_key=df[df['Symbol']==symbol]['instrument_key'].values[0]"
      ],
      "metadata": {
        "colab": {
          "base_uri": "https://localhost:8080/"
        },
        "id": "DFm1kiFMRZeQ",
        "outputId": "7455984f-4bd3-4315-f0b2-023198577c00"
      },
      "execution_count": 54,
      "outputs": [
        {
          "output_type": "stream",
          "name": "stderr",
          "text": [
            "\r[*********************100%%**********************]  1 of 1 completed\n"
          ]
        }
      ]
    },
    {
      "cell_type": "code",
      "source": [
        "\n",
        "current_price=my_lib.get_last_traded_price(access_token_value,instrument_key,symbol)\n",
        "print(current_price)"
      ],
      "metadata": {
        "colab": {
          "base_uri": "https://localhost:8080/"
        },
        "id": "g9Xa80HV0At3",
        "outputId": "af870d4d-3dda-49e2-cf28-a545c95d02c3"
      },
      "execution_count": 55,
      "outputs": [
        {
          "output_type": "stream",
          "name": "stdout",
          "text": [
            "4723.9\n"
          ]
        }
      ]
    },
    {
      "cell_type": "code",
      "source": [
        "df_call,df_put,df_general=my_lib.import_option_chain_data(instrument_key,access_token_value)\n",
        "print(df_call)\n",
        "print(df_put)\n",
        "print(df_general)"
      ],
      "metadata": {
        "id": "aGM1u31c1kOc",
        "colab": {
          "base_uri": "https://localhost:8080/"
        },
        "outputId": "237aea61-a52e-4af1-abb5-be846f0395fd"
      },
      "execution_count": 56,
      "outputs": [
        {
          "output_type": "stream",
          "name": "stdout",
          "text": [
            "        expiry  strike_price instrument_key     ltp   volume         oi  \\\n",
            "0   2024-08-29        3800.0  NSE_FO|107259    0.00        0        0.0   \n",
            "1   2024-08-29        4000.0  NSE_FO|107261  745.00    12300     9600.0   \n",
            "2   2024-08-29        4100.0  NSE_FO|107263  560.45        0      600.0   \n",
            "3   2024-08-29        4200.0  NSE_FO|107274  538.80     2700     4200.0   \n",
            "4   2024-08-29        4300.0  NSE_FO|107276  478.15     5400     5700.0   \n",
            "5   2024-08-29        4400.0  NSE_FO|107279  389.00     6300    24300.0   \n",
            "6   2024-08-29        4500.0  NSE_FO|107282  312.00    74400   146700.0   \n",
            "7   2024-08-29        4600.0  NSE_FO|107289  245.00   256200   164700.0   \n",
            "8   2024-08-29        4700.0  NSE_FO|107326  188.05  1149300   361800.0   \n",
            "9   2024-08-29        4800.0  NSE_FO|107328  142.00  1046100   493200.0   \n",
            "10  2024-08-29        4900.0  NSE_FO|107330  107.00   528900   505800.0   \n",
            "11  2024-08-29        5000.0  NSE_FO|107332   79.50  1399800  1399200.0   \n",
            "12  2024-08-29        5100.0  NSE_FO|107334   59.85   432900   621000.0   \n",
            "13  2024-08-29        5200.0  NSE_FO|107336   44.75   588300   790500.0   \n",
            "14  2024-08-29        5300.0  NSE_FO|107340   32.95   251100   423300.0   \n",
            "15  2024-08-29        5400.0  NSE_FO|107347   25.40   167100   438600.0   \n",
            "16  2024-08-29        5500.0  NSE_FO|107351   20.30   374400  1073700.0   \n",
            "17  2024-08-29        5600.0  NSE_FO|107355   16.55   195600   360000.0   \n",
            "18  2024-08-29        5700.0  NSE_FO|107377   13.45   147300   222300.0   \n",
            "19  2024-08-29        5800.0  NSE_FO|107400   11.50    55800   206400.0   \n",
            "20  2024-08-29        5900.0  NSE_FO|107404   10.00    27300   100800.0   \n",
            "21  2024-08-29        6000.0  NSE_FO|107408    9.00   255000   736500.0   \n",
            "22  2024-08-29        6200.0  NSE_FO|107412    6.00    21300   116400.0   \n",
            "23  2024-08-29        6400.0   NSE_FO|52202    3.90    24300   141000.0   \n",
            "\n",
            "    close_price  bid_price  bid_qty  ask_price  ask_qty    prev_oi    vega  \\\n",
            "0       1276.75     917.50      900     965.85      900        0.0  0.0000   \n",
            "1        691.00     737.90      600     752.25      900     9000.0  1.3048   \n",
            "2        560.45     630.75      300     671.05      300      600.0  0.0000   \n",
            "3        565.85     542.25      600     579.95      600     4500.0  1.1634   \n",
            "4        427.80     464.80      300     483.35      600     8400.0  2.7889   \n",
            "5        344.80     383.45      600     394.10      300    24300.0  3.2140   \n",
            "6        273.80     312.15      300     317.65      300   152400.0  3.7320   \n",
            "7        214.00     244.05      300     246.50      300   226500.0  4.1547   \n",
            "8        164.25     187.95      300     189.60      300   405000.0  4.3876   \n",
            "9        124.75     141.55      300     143.30      600   484800.0  4.3904   \n",
            "10        94.95     106.50      300     107.05      300   503400.0  4.1823   \n",
            "11        71.10      79.00     4200      79.50      300  1357500.0  3.8211   \n",
            "12        54.10      59.10      300      59.95      300   630900.0  3.3953   \n",
            "13        40.65      44.05      900      44.65      300   726300.0  2.9369   \n",
            "14        31.05      32.90      600      33.65      600   414000.0  2.4910   \n",
            "15        24.15      25.30      300      25.80      900   441900.0  2.1001   \n",
            "16        19.60      20.30      600      20.80      600  1069200.0  1.7946   \n",
            "17        16.15      16.55      300      16.90      300   369300.0  1.5409   \n",
            "18        13.10      12.00      300      13.50      300   214800.0  1.3160   \n",
            "19        10.85       9.00      300      11.50      300   206400.0  1.1521   \n",
            "20         9.55      10.00      300      11.85      300   100200.0  1.0200   \n",
            "21         8.40       8.20     1200       9.10      300   747900.0  0.9208   \n",
            "22         5.45       5.55      300       6.30     1500   124500.0  0.6704   \n",
            "23         4.35       3.90      300       4.95      300   144000.0  0.4713   \n",
            "\n",
            "     theta   gamma   delta     iv  \n",
            "0   0.0000  0.0000  1.0000   0.00  \n",
            "1  -1.5529  0.0002  0.9408  47.61  \n",
            "2   0.0000  0.0000  1.0000   0.00  \n",
            "3  -0.9267  0.0003  0.9488  31.86  \n",
            "4  -3.1384  0.0005  0.8313  45.01  \n",
            "5  -3.3226  0.0006  0.7875  41.35  \n",
            "6  -3.7356  0.0008  0.7194  40.04  \n",
            "7  -4.0922  0.0009  0.6371  39.40  \n",
            "8  -4.2881  0.0009  0.5468  39.09  \n",
            "9  -4.3009  0.0009  0.4554  39.18  \n",
            "10 -4.1513  0.0009  0.3703  39.70  \n",
            "11 -3.8510  0.0008  0.2950  40.31  \n",
            "12 -3.5178  0.0007  0.2340  41.44  \n",
            "13 -3.1101  0.0006  0.1831  42.36  \n",
            "14 -2.6949  0.0005  0.1422  43.27  \n",
            "15 -2.3329  0.0004  0.1113  44.43  \n",
            "16 -2.0675  0.0003  0.0897  46.08  \n",
            "17 -1.8410  0.0003  0.0733  47.79  \n",
            "18 -1.6225  0.0002  0.0598  49.32  \n",
            "19 -1.4749  0.0002  0.0505  51.21  \n",
            "20 -1.3557  0.0002  0.0434  53.16  \n",
            "21 -1.2729  0.0001  0.0383  55.30  \n",
            "22 -0.9637  0.0001  0.0261  57.50  \n",
            "23 -0.6961  0.0001  0.0172  59.08  \n",
            "        expiry  strike_price instrument_key      ltp  volume        oi  \\\n",
            "0   2024-08-29        3800.0  NSE_FO|107260     7.90  106500  107700.0   \n",
            "1   2024-08-29        4000.0  NSE_FO|107262    14.00  262200  425100.0   \n",
            "2   2024-08-29        4100.0  NSE_FO|107272    19.15  104700   80700.0   \n",
            "3   2024-08-29        4200.0  NSE_FO|107275    26.55  251400  208200.0   \n",
            "4   2024-08-29        4300.0  NSE_FO|107278    38.30  219000  234900.0   \n",
            "5   2024-08-29        4400.0  NSE_FO|107280    56.20  261900  326100.0   \n",
            "6   2024-08-29        4500.0  NSE_FO|107288    80.00  383100  639300.0   \n",
            "7   2024-08-29        4600.0  NSE_FO|107325   112.50  340200  309900.0   \n",
            "8   2024-08-29        4700.0  NSE_FO|107327   155.00  587700  362700.0   \n",
            "9   2024-08-29        4800.0  NSE_FO|107329   210.00  181200  353700.0   \n",
            "10  2024-08-29        4900.0  NSE_FO|107331   271.45   24600  197400.0   \n",
            "11  2024-08-29        5000.0  NSE_FO|107333   345.25   42900  522300.0   \n",
            "12  2024-08-29        5100.0  NSE_FO|107335   424.40     900  156600.0   \n",
            "13  2024-08-29        5200.0  NSE_FO|107339   514.40     300  193200.0   \n",
            "14  2024-08-29        5300.0  NSE_FO|107346   607.85     300  111600.0   \n",
            "15  2024-08-29        5400.0  NSE_FO|107350   674.55    1500  129900.0   \n",
            "16  2024-08-29        5500.0  NSE_FO|107354   780.00     300  113100.0   \n",
            "17  2024-08-29        5600.0  NSE_FO|107376   870.00       0   39900.0   \n",
            "18  2024-08-29        5700.0  NSE_FO|107399  1094.85       0   26700.0   \n",
            "19  2024-08-29        5800.0  NSE_FO|107403  1060.00       0   10800.0   \n",
            "20  2024-08-29        5900.0  NSE_FO|107407  1143.35       0    6900.0   \n",
            "21  2024-08-29        6000.0  NSE_FO|107411  1242.30     600   58200.0   \n",
            "22  2024-08-29        6200.0  NSE_FO|107415  1550.05       0     900.0   \n",
            "23  2024-08-29        6400.0   NSE_FO|52224  1102.60       0    5400.0   \n",
            "\n",
            "    close_price  bid_price  bid_qty  ask_price  ask_qty   prev_oi    vega  \\\n",
            "0          9.05       7.15      300       9.00     6000  113100.0  0.8175   \n",
            "1         18.25      13.55      600      13.90      300  426900.0  1.3048   \n",
            "2         25.65      18.50      600      19.10      300   87900.0  1.6545   \n",
            "3         37.60      26.30      900      26.55     1500  215400.0  2.0819   \n",
            "4         51.80      38.20      300      38.50     5100  238200.0  2.6092   \n",
            "5         73.35      55.40      600      56.20      300  332100.0  3.1897   \n",
            "6        102.65      79.65      300      80.55      300  626700.0  3.7247   \n",
            "7        140.95     111.80      600     112.60      300  299700.0  4.1512   \n",
            "8        191.20     154.15      300     156.15      300  342300.0  4.3875   \n",
            "9        250.45     207.60      600     209.30      300  355500.0  4.3899   \n",
            "10       322.10     267.75      300     285.75      300  202500.0  4.1673   \n",
            "11       399.45     337.85      600     351.25      300  532800.0  3.7958   \n",
            "12       477.00     416.30      600     425.95      300  156900.0  3.3270   \n",
            "13       507.80     492.00      900     510.70      300  193200.0  2.9522   \n",
            "14       612.65     574.95     1500     601.35      300  111600.0  2.6388   \n",
            "15       729.45     674.25      600     692.55      300  129600.0  0.9553   \n",
            "16       786.30     777.60      600     789.45      300  113100.0  1.3135   \n",
            "17       870.00     860.45      300     897.70      300   39600.0  0.2703   \n",
            "18      1094.85     946.35      900     981.90      300   26700.0  3.3669   \n",
            "19      1060.00    1052.15      900    1091.50      300   10800.0  0.0000   \n",
            "20      1143.35    1150.20      900    1180.00      600    7200.0  0.0000   \n",
            "21      1276.70    1265.10      900    1280.30      300   58500.0  0.0000   \n",
            "22      1550.05    1436.40      900    1485.90      900     900.0  2.6286   \n",
            "23      1096.85    1643.00      900    1684.30      600    7500.0  0.0000   \n",
            "\n",
            "     theta   gamma   delta      iv  \n",
            "0  -1.0778  0.0001 -0.0331   52.73  \n",
            "1  -1.5529  0.0002 -0.0592   47.61  \n",
            "2  -1.8757  0.0003 -0.0805   45.35  \n",
            "3  -2.2507  0.0004 -0.1100   43.24  \n",
            "4  -2.7232  0.0005 -0.1524   41.75  \n",
            "5  -3.2537  0.0006 -0.2098   40.80  \n",
            "6  -3.7027  0.0008 -0.2795   39.76  \n",
            "7  -4.0507  0.0009 -0.3620   39.03  \n",
            "8  -4.2378  0.0009 -0.4531   38.64  \n",
            "9  -4.2769  0.0009 -0.5450   38.97  \n",
            "10 -4.0347  0.0009 -0.6338   38.73  \n",
            "11 -3.7531  0.0008 -0.7092   39.55  \n",
            "12 -3.3353  0.0007 -0.7743   40.10  \n",
            "13 -3.1442  0.0006 -0.8154   42.60  \n",
            "14 -2.9957  0.0005 -0.8450   45.41  \n",
            "15 -0.7550  0.0002 -0.9600   31.62  \n",
            "16 -1.3168  0.0003 -0.9403   40.10  \n",
            "17 -0.2030  0.0001 -0.9910   30.03  \n",
            "18 -7.9092  0.0003 -0.7695   93.96  \n",
            "19  0.0000  0.0000 -1.0000    0.00  \n",
            "20  0.0000  0.0000 -1.0000    0.00  \n",
            "21  0.0000  0.0000 -1.0000    0.00  \n",
            "22 -6.6670  0.0002 -0.8460  101.47  \n",
            "23  0.0000  0.0000 -1.0000    0.00  \n",
            "        expiry  strike_price       underlying_key  underlying_spot_price  \\\n",
            "0   2024-08-29        3800.0  NSE_EQ|INE066F01020                 4723.9   \n",
            "1   2024-08-29        4000.0  NSE_EQ|INE066F01020                 4723.9   \n",
            "2   2024-08-29        4100.0  NSE_EQ|INE066F01020                 4723.9   \n",
            "3   2024-08-29        4200.0  NSE_EQ|INE066F01020                 4723.9   \n",
            "4   2024-08-29        4300.0  NSE_EQ|INE066F01020                 4723.9   \n",
            "5   2024-08-29        4400.0  NSE_EQ|INE066F01020                 4723.9   \n",
            "6   2024-08-29        4500.0  NSE_EQ|INE066F01020                 4723.9   \n",
            "7   2024-08-29        4600.0  NSE_EQ|INE066F01020                 4723.9   \n",
            "8   2024-08-29        4700.0  NSE_EQ|INE066F01020                 4723.9   \n",
            "9   2024-08-29        4800.0  NSE_EQ|INE066F01020                 4723.9   \n",
            "10  2024-08-29        4900.0  NSE_EQ|INE066F01020                 4723.9   \n",
            "11  2024-08-29        5000.0  NSE_EQ|INE066F01020                 4723.9   \n",
            "12  2024-08-29        5100.0  NSE_EQ|INE066F01020                 4723.9   \n",
            "13  2024-08-29        5200.0  NSE_EQ|INE066F01020                 4723.9   \n",
            "14  2024-08-29        5300.0  NSE_EQ|INE066F01020                 4723.9   \n",
            "15  2024-08-29        5400.0  NSE_EQ|INE066F01020                 4723.9   \n",
            "16  2024-08-29        5500.0  NSE_EQ|INE066F01020                 4723.9   \n",
            "17  2024-08-29        5600.0  NSE_EQ|INE066F01020                 4723.9   \n",
            "18  2024-08-29        5700.0  NSE_EQ|INE066F01020                 4723.9   \n",
            "19  2024-08-29        5800.0  NSE_EQ|INE066F01020                 4723.9   \n",
            "20  2024-08-29        5900.0  NSE_EQ|INE066F01020                 4723.9   \n",
            "21  2024-08-29        6000.0  NSE_EQ|INE066F01020                 4723.9   \n",
            "22  2024-08-29        6200.0  NSE_EQ|INE066F01020                 4723.9   \n",
            "23  2024-08-29        6400.0  NSE_EQ|INE066F01020                 4723.9   \n",
            "\n",
            "         pcr  \n",
            "0        NaN  \n",
            "1    44.2813  \n",
            "2   134.5000  \n",
            "3    49.5714  \n",
            "4    41.2105  \n",
            "5    13.4198  \n",
            "6     4.3579  \n",
            "7     1.8816  \n",
            "8     1.0025  \n",
            "9     0.7172  \n",
            "10    0.3903  \n",
            "11    0.3733  \n",
            "12    0.2522  \n",
            "13    0.2444  \n",
            "14    0.2636  \n",
            "15    0.2962  \n",
            "16    0.1053  \n",
            "17    0.1108  \n",
            "18    0.1201  \n",
            "19    0.0523  \n",
            "20    0.0685  \n",
            "21    0.0790  \n",
            "22    0.0077  \n",
            "23    0.0383  \n"
          ]
        }
      ]
    },
    {
      "cell_type": "code",
      "source": [
        "df_risk_reward=my_lib.calculate_all_possible_spread_and_max_loss(instrument_key,access_token_value)\n",
        "# print(df_risk_reward)\n",
        "from google.colab import sheets\n",
        "df_risk_reward['max_loss']=df_risk_reward['loss']*300\n",
        "# df_filtered=df_risk_reward[(df_risk_reward['max_loss']<=6000) & (df_risk_reward['strike_2']>=upper_range_l-100) & (df_risk_reward['strike_2']<=upper_bound_m)]\n",
        "\n",
        "sheet = sheets.InteractiveSheet(df=df_risk_reward)"
      ],
      "metadata": {
        "colab": {
          "base_uri": "https://localhost:8080/",
          "height": 760
        },
        "id": "jrfGl445MHOf",
        "outputId": "0b8adc5e-459d-4f89-fe61-e9b4e662f89d"
      },
      "execution_count": 57,
      "outputs": [
        {
          "output_type": "stream",
          "name": "stderr",
          "text": [
            "/content/drive/MyDrive/MY_ONLINE_DATA_NEEDED_FILES/MY_LIBRARY_FOR_OPTIONS_TRADING/my_library_14.py:214: SettingWithCopyWarning: \n",
            "A value is trying to be set on a copy of a slice from a DataFrame\n",
            "\n",
            "See the caveats in the documentation: https://pandas.pydata.org/pandas-docs/stable/user_guide/indexing.html#returning-a-view-versus-a-copy\n",
            "  new_data_frame.drop(index=0,inplace=True)\n"
          ]
        },
        {
          "output_type": "stream",
          "name": "stdout",
          "text": [
            "https://docs.google.com/spreadsheets/d/1IolOuenGUZ9XWBFvoP6OeiF42PNHuWbq0SGqKz9rmh0#gid=0\n"
          ]
        },
        {
          "output_type": "stream",
          "name": "stderr",
          "text": [
            "/usr/local/lib/python3.10/dist-packages/google/colab/sheets.py:31: FutureWarning: DataFrame.applymap has been deprecated. Use DataFrame.map instead.\n",
            "  return frame.applymap(_clean_val).replace({np.nan: None})\n"
          ]
        },
        {
          "output_type": "display_data",
          "data": {
            "text/plain": [
              "<IPython.lib.display.IFrame at 0x7c4f415c8ca0>"
            ],
            "text/html": [
              "\n",
              "        <iframe\n",
              "            width=\"100%\"\n",
              "            height=\"600\"\n",
              "            src=\"https://docs.google.com/spreadsheets/d/1IolOuenGUZ9XWBFvoP6OeiF42PNHuWbq0SGqKz9rmh0#gid=0/edit?rm=embedded?usp=sharing?widget=true&amp;headers=false\"\n",
              "            frameborder=\"0\"\n",
              "            allowfullscreen\n",
              "            \n",
              "        ></iframe>\n",
              "        "
            ]
          },
          "metadata": {}
        }
      ]
    },
    {
      "cell_type": "code",
      "source": [
        "\n",
        "pc,nc,lr,ur=my_lib.linear_range(current_price,historical_stock_data)\n",
        "print(pc,nc,lr,ur)\n",
        "\n",
        "pce,nce,lre,ure=my_lib.exponential_range(current_price,historical_stock_data)\n",
        "print(pce,nce,lre,ure)"
      ],
      "metadata": {
        "colab": {
          "base_uri": "https://localhost:8080/"
        },
        "id": "x5tZs1sxP795",
        "outputId": "274500a7-ab20-4379-8278-30cea8573887"
      },
      "execution_count": 58,
      "outputs": [
        {
          "output_type": "stream",
          "name": "stdout",
          "text": [
            "10.691186415186984 -6.197438946820846 4431.13918159113 5228.940955067017\n",
            "0.1128361693973634 -0.060093042000121666 4440.026478895625 5256.926780616204\n"
          ]
        }
      ]
    },
    {
      "cell_type": "code",
      "source": [
        "my_lib.plotting_volatility_cone(historical_stock_data)\n"
      ],
      "metadata": {
        "colab": {
          "base_uri": "https://localhost:8080/"
        },
        "id": "i_7SaGpdT9-_",
        "outputId": "8a7c94dd-0447-4c81-a86c-c151af5b72d1"
      },
      "execution_count": 59,
      "outputs": [
        {
          "output_type": "execute_result",
          "data": {
            "text/plain": [
              "[7.363998461574571,\n",
              " 0.1963523152473421,\n",
              " 15.757793306918703,\n",
              " 31.319234298590064,\n",
              " 46.88067529026142,\n",
              " 62.44211628193278,\n",
              " 108.26267186866136]"
            ]
          },
          "metadata": {},
          "execution_count": 59
        }
      ]
    },
    {
      "cell_type": "code",
      "source": [
        "num_simulations=10000\n",
        "print(my_lib.monte_carlo_simulation(current_price,historical_stock_data,num_simulations),\n",
        "my_lib.geometric_brownian_motion_simulation(current_price,historical_stock_data,num_simulations))"
      ],
      "metadata": {
        "colab": {
          "base_uri": "https://localhost:8080/"
        },
        "id": "43rFyke3VxJf",
        "outputId": "4a185036-c12b-4e1c-b105-a217de9216cf"
      },
      "execution_count": 62,
      "outputs": [
        {
          "output_type": "stream",
          "name": "stdout",
          "text": [
            "\n",
            "\n",
            "(4192.194536525458, 5520.926957462229) (4192.722967947208, 5539.338518856908)\n"
          ]
        }
      ]
    }
  ]
}